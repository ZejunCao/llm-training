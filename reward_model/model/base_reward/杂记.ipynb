{
 "cells": [
  {
   "cell_type": "code",
   "execution_count": null,
   "metadata": {},
   "outputs": [
    {
     "data": {
      "text/plain": [
       "{'chosen': [{'content': 'c#', 'role': 'user'},\n",
       "  {'content': 'C# (pronounced \"C sharp\") is a modern, object-oriented programming language developed by Microsoft. It is widely used for building various types of applications, including web applications, desktop applications, mobile applications, and games. C# is similar to other programming languages such as Java and C++, and it is known for its simplicity and ease of use. C# is a powerful language that provides a rich set of libraries and frameworks that make it easy to build robust and scalable applications.\\n\\nHere is a brief overview of some key features of C#:\\n\\n1. Object-oriented: C# is an object-oriented language, which means it uses the concept of objects to represent real-world entities and their behavior.\\n\\n2. Cross-platform: C# can be used to build applications for multiple platforms, including Windows, macOS, and Linux.\\n\\n3. Strongly typed: C# is a strongly typed language, which means that variables must be declared with a specific type, and their type cannot be changed at runtime.\\n\\n4. Event-driven: C# uses an event-driven programming model, which means that programs are built around the concept of events, such as user input or network activity.\\n\\n5. Garbage-collected: C# has a garbage collector that automatically manages memory allocation and deallocation, making it easier to write memory-efficient and robust applications.\\n\\n6. Community-driven: C# has a large and active community of developers, who contribute to the language and its libraries through open-source projects and other initiatives.\\n\\nOverall, C# is a versatile and powerful programming language that is widely used for building a variety of applications.',\n",
       "   'role': 'assistant'}],\n",
       " 'rejected': [{'content': 'c#', 'role': 'user'},\n",
       "  {'content': 'C# is a high-level, object-oriented programming language developed by Microsoft as part of its .NET initiative. It was created as a modern alternative to Java and supports a variety of programming paradigms, including imperative, functional, and event-driven. C# is primarily used for Windows application development, but it can also be used for web, mobile, and game development. The language is designed to be safe, secure, and efficient, and it provides developers with a rich set of libraries and tools for building robust and scalable applications. C# is also widely used in the game development industry, particularly in the development of games for the Xbox 360 and Xbox One consoles.',\n",
       "   'role': 'assistant'}],\n",
       " 'source': 'helpsteer2'}"
      ]
     },
     "execution_count": 12,
     "metadata": {},
     "output_type": "execute_result"
    }
   ],
   "source": [
    "from datasets import load_dataset\n",
    "from tqdm import tqdm\n",
    "from transformers import AutoTokenizer\n",
    "\n",
    "tokenizer = AutoTokenizer.from_pretrained(\"Qwen/Qwen2.5-7B-Instruct\")\n",
    "\n",
    "dataset = load_dataset(\"/Users/zejun7/python/llm-training/reward_model/original_data/Skywork-Reward-Preference-80K-v0.1/data\", split=\"train\")\n",
    "dataset[0]"
   ]
  },
  {
   "cell_type": "markdown",
   "metadata": {},
   "source": [
    "## 对话模板 apply_chat_template"
   ]
  },
  {
   "cell_type": "code",
   "execution_count": 28,
   "metadata": {},
   "outputs": [
    {
     "name": "stderr",
     "output_type": "stream",
     "text": [
      "  0%|          | 0/81973 [00:00<?, ?it/s]\n"
     ]
    }
   ],
   "source": [
    "# 不能这么赋值，dataset是只读的，需要用map来修改\n",
    "for i in tqdm(range(len(dataset))):\n",
    "    dataset[i]['new_chosen'] = tokenizer.apply_chat_template(dataset[i]['chosen'], tokenize=False)\n",
    "    dataset[i]['new_rejected'] = tokenizer.apply_chat_template(dataset[i]['rejected'], tokenize=False)\n",
    "    break"
   ]
  },
  {
   "cell_type": "code",
   "execution_count": 26,
   "metadata": {},
   "outputs": [
    {
     "name": "stderr",
     "output_type": "stream",
     "text": [
      "Creating parquet from Arrow format: 100%|██████████| 82/82 [00:01<00:00, 53.44ba/s]\n"
     ]
    },
    {
     "data": {
      "text/plain": [
       "{'chosen': '<|im_start|>system\\nYou are Qwen, created by Alibaba Cloud. You are a helpful assistant.<|im_end|>\\n<|im_start|>user\\nc#<|im_end|>\\n<|im_start|>assistant\\nC# (pronounced \"C sharp\") is a modern, object-oriented programming language developed by Microsoft. It is widely used for building various types of applications, including web applications, desktop applications, mobile applications, and games. C# is similar to other programming languages such as Java and C++, and it is known for its simplicity and ease of use. C# is a powerful language that provides a rich set of libraries and frameworks that make it easy to build robust and scalable applications.\\n\\nHere is a brief overview of some key features of C#:\\n\\n1. Object-oriented: C# is an object-oriented language, which means it uses the concept of objects to represent real-world entities and their behavior.\\n\\n2. Cross-platform: C# can be used to build applications for multiple platforms, including Windows, macOS, and Linux.\\n\\n3. Strongly typed: C# is a strongly typed language, which means that variables must be declared with a specific type, and their type cannot be changed at runtime.\\n\\n4. Event-driven: C# uses an event-driven programming model, which means that programs are built around the concept of events, such as user input or network activity.\\n\\n5. Garbage-collected: C# has a garbage collector that automatically manages memory allocation and deallocation, making it easier to write memory-efficient and robust applications.\\n\\n6. Community-driven: C# has a large and active community of developers, who contribute to the language and its libraries through open-source projects and other initiatives.\\n\\nOverall, C# is a versatile and powerful programming language that is widely used for building a variety of applications.<|im_end|>\\n',\n",
       " 'rejected': '<|im_start|>system\\nYou are Qwen, created by Alibaba Cloud. You are a helpful assistant.<|im_end|>\\n<|im_start|>user\\nc#<|im_end|>\\n<|im_start|>assistant\\nC# is a high-level, object-oriented programming language developed by Microsoft as part of its .NET initiative. It was created as a modern alternative to Java and supports a variety of programming paradigms, including imperative, functional, and event-driven. C# is primarily used for Windows application development, but it can also be used for web, mobile, and game development. The language is designed to be safe, secure, and efficient, and it provides developers with a rich set of libraries and tools for building robust and scalable applications. C# is also widely used in the game development industry, particularly in the development of games for the Xbox 360 and Xbox One consoles.<|im_end|>\\n',\n",
       " 'source': 'helpsteer2'}"
      ]
     },
     "execution_count": 26,
     "metadata": {},
     "output_type": "execute_result"
    }
   ],
   "source": [
    "# 方式一：标准奖励模型格式\n",
    "def apply_chat_template(examples):\n",
    "    \"\"\"\n",
    "    输入格式:\n",
    "    examples = {\n",
    "        'chosen': [\n",
    "            {'role': 'user', 'content': '用一句话介绍Python'},\n",
    "            {'role': 'assistant','content': 'Python是一种简洁优雅的语言'}\n",
    "        ],\n",
    "        'rejected': [\n",
    "            {'role': 'user','content': '用一句话介绍Python'},\n",
    "            {'role': 'assistant','content': 'Python是条蛇'}\n",
    "        ]\n",
    "    }\n",
    "    \"\"\"\n",
    "    examples['chosen'] = tokenizer.apply_chat_template(\n",
    "        examples['chosen'],\n",
    "        tokenize=False\n",
    "    )\n",
    "    examples['rejected'] = tokenizer.apply_chat_template(\n",
    "        examples['rejected'],\n",
    "        tokenize=False\n",
    "    )\n",
    "    return examples\n",
    "\n",
    "# 使用 map 替换原字段\n",
    "dataset_template = dataset.map(\n",
    "    apply_chat_template,\n",
    "    batched=True,\n",
    "    batch_size=1000,  # 每批处理1000条\n",
    "    num_proc=16,       # 多进程加速\n",
    "    desc=\"Applying chat template\"\n",
    ")\n",
    "dataset_template.to_parquet(\"data/skywork.parquet\")\n",
    "dataset_template[0]"
   ]
  },
  {
   "cell_type": "code",
   "execution_count": 42,
   "metadata": {},
   "outputs": [
    {
     "name": "stderr",
     "output_type": "stream",
     "text": [
      "Applying chat template (num_proc=16): 100%|██████████| 81973/81973 [00:11<00:00, 7115.62 examples/s] \n",
      "Creating parquet from Arrow format: 100%|██████████| 82/82 [00:01<00:00, 58.53ba/s]\n"
     ]
    },
    {
     "data": {
      "text/plain": [
       "{'chosen': '<|im_start|>system\\nYou are Qwen, created by Alibaba Cloud. You are a helpful assistant.<|im_end|>\\n<|im_start|>assistant\\nC# (pronounced \"C sharp\") is a modern, object-oriented programming language developed by Microsoft. It is widely used for building various types of applications, including web applications, desktop applications, mobile applications, and games. C# is similar to other programming languages such as Java and C++, and it is known for its simplicity and ease of use. C# is a powerful language that provides a rich set of libraries and frameworks that make it easy to build robust and scalable applications.\\n\\nHere is a brief overview of some key features of C#:\\n\\n1. Object-oriented: C# is an object-oriented language, which means it uses the concept of objects to represent real-world entities and their behavior.\\n\\n2. Cross-platform: C# can be used to build applications for multiple platforms, including Windows, macOS, and Linux.\\n\\n3. Strongly typed: C# is a strongly typed language, which means that variables must be declared with a specific type, and their type cannot be changed at runtime.\\n\\n4. Event-driven: C# uses an event-driven programming model, which means that programs are built around the concept of events, such as user input or network activity.\\n\\n5. Garbage-collected: C# has a garbage collector that automatically manages memory allocation and deallocation, making it easier to write memory-efficient and robust applications.\\n\\n6. Community-driven: C# has a large and active community of developers, who contribute to the language and its libraries through open-source projects and other initiatives.\\n\\nOverall, C# is a versatile and powerful programming language that is widely used for building a variety of applications.<|im_end|>\\n',\n",
       " 'rejected': '<|im_start|>system\\nYou are Qwen, created by Alibaba Cloud. You are a helpful assistant.<|im_end|>\\n<|im_start|>assistant\\nC# is a high-level, object-oriented programming language developed by Microsoft as part of its .NET initiative. It was created as a modern alternative to Java and supports a variety of programming paradigms, including imperative, functional, and event-driven. C# is primarily used for Windows application development, but it can also be used for web, mobile, and game development. The language is designed to be safe, secure, and efficient, and it provides developers with a rich set of libraries and tools for building robust and scalable applications. C# is also widely used in the game development industry, particularly in the development of games for the Xbox 360 and Xbox One consoles.<|im_end|>\\n',\n",
       " 'source': 'helpsteer2',\n",
       " 'prompt': '<|im_start|>system\\nYou are Qwen, created by Alibaba Cloud. You are a helpful assistant.<|im_end|>\\n<|im_start|>user\\nc#<|im_end|>\\n<|im_start|>assistant\\n'}"
      ]
     },
     "execution_count": 42,
     "metadata": {},
     "output_type": "execute_result"
    }
   ],
   "source": [
    "# 方式二：不推荐，它会将prompt转化成模板，再将prompt+chosen转化成模板，再提取prompt和chosen单独部分，很多冗余操作，降低数据处理效率\n",
    "# 相比方式一，实测速度对比 15s -> 5min\n",
    "# 特别注意：这种方法在后续的_tokenzie中没有用到prompt，会导致前缀丢失，所以**奖励模型是不能用这种格式的**\n",
    "dataset_name = \"data/skywork2.parquet\"\n",
    "def apply_chat_template(examples):\n",
    "    \"\"\"\n",
    "    输入格式:\n",
    "    examples = {\n",
    "        'prompt': [\n",
    "            {'role': 'user', 'content': '解释一下什么是机器学习'}\n",
    "        ],\n",
    "        'chosen': [\n",
    "            {'role': 'assistant', 'content': '机器学习是...（正确解释）'}\n",
    "        ],\n",
    "        'rejected': [\n",
    "            {'role': 'assistant', 'content': '机器学习就是机器人学习走路'}\n",
    "        ]\n",
    "    }\n",
    "    \"\"\"\n",
    "    prompt_text = tokenizer.apply_chat_template(\n",
    "        examples['prompt'],\n",
    "        tokenize=False,\n",
    "        add_generation_prompt=True\n",
    "    )\n",
    "    chosen_text = tokenizer.apply_chat_template(\n",
    "        examples['prompt'] + examples['chosen'],\n",
    "        tokenize=False\n",
    "    )\n",
    "    rejected_text = tokenizer.apply_chat_template(\n",
    "        examples['prompt'] + examples['rejected'],\n",
    "        tokenize=False\n",
    "    )\n",
    "\n",
    "    examples['prompt'] = prompt_text\n",
    "    examples['chosen'] = chosen_text[len(prompt_text):]\n",
    "    examples['rejected'] = rejected_text[len(prompt_text):]\n",
    "    return examples\n",
    "\n",
    "\n",
    "def template_transform(batch):\n",
    "    new_examples = {\n",
    "        'prompt': [],\n",
    "        'chosen': [],\n",
    "        'rejected': []\n",
    "    }\n",
    "    for chosen, rejected in zip(batch[\"chosen\"], batch[\"rejected\"]):\n",
    "        new_examples['prompt'].append([chosen[0]])\n",
    "        new_examples['chosen'].append([chosen[1]])\n",
    "        new_examples['rejected'].append([rejected[1]])\n",
    "    return new_examples\n",
    "\n",
    "\n",
    "# 使用 map 替换原字段\n",
    "dataset_prompt_format = dataset.map(\n",
    "    template_transform,\n",
    "    batched=True,\n",
    "    batch_size=1000,  # 每批处理1000条\n",
    "    num_proc=16,       # 多进程加速\n",
    "    desc=\"Template transform\"\n",
    ")\n",
    "dataset_template = dataset_prompt_format.map(\n",
    "    apply_chat_template,\n",
    "    batched=True,\n",
    "    batch_size=1000,  # 每批处理1000条\n",
    "    num_proc=16,       # 多进程加速\n",
    "    desc=\"Applying chat template\"\n",
    ")\n",
    "dataset_template.to_parquet(\"data/skywork2.parquet\")\n",
    "dataset_template[0]"
   ]
  },
  {
   "cell_type": "code",
   "execution_count": null,
   "metadata": {},
   "outputs": [],
   "source": [
    "# 语言建模（messages）\n",
    "def apply_chat_template(examples):\n",
    "    \"\"\"\n",
    "    输入格式:\n",
    "    examples = {\n",
    "        'messages': [\n",
    "            {'role': 'user', 'content': '你好'},\n",
    "            {'role': 'assistant', 'content': '你好呀！'}\n",
    "        ]\n",
    "    }\n",
    "    \"\"\"\n",
    "    examples['text'] = tokenizer.apply_chat_template(\n",
    "        examples['messages'],\n",
    "        tokenize=False\n",
    "    )\n",
    "    return examples\n",
    "\n",
    "\n",
    "# Prompt-only\n",
    "def apply_chat_template(examples):\n",
    "    \"\"\"\n",
    "    输入格式:\n",
    "    examples = {\n",
    "        'prompt': [\n",
    "            {'role': 'user', 'content': '写一个Python冒泡排序'}\n",
    "        ]\n",
    "    }\n",
    "    \"\"\"\n",
    "    examples['prompt'] = tokenizer.apply_chat_template(\n",
    "        examples['prompt'],\n",
    "        tokenize=False,\n",
    "        add_generation_prompt=True  # 最后是user，需要生成\n",
    "    )\n",
    "    return examples\n",
    "\n",
    "\n",
    "# Prompt + Completion\n",
    "def apply_chat_template(examples):\n",
    "    \"\"\"\n",
    "    输入格式:\n",
    "    examples = {\n",
    "        'prompt': [\n",
    "            {'role': 'user', 'content': '讲个冷笑话'}\n",
    "        ],\n",
    "        'completion': [\n",
    "            {'role': 'assistant', 'content': '程序员的Bug不会飞~'}\n",
    "        ]\n",
    "    }\n",
    "    \"\"\"\n",
    "    prompt_text = tokenizer.apply_chat_template(\n",
    "        examples['prompt'],\n",
    "        tokenize=False,\n",
    "        add_generation_prompt=True\n",
    "    )\n",
    "    completion_text = tokenizer.apply_chat_template(\n",
    "        examples['prompt'] + examples['completion'],\n",
    "        tokenize=False\n",
    "    )\n",
    "    examples['prompt'] = prompt_text\n",
    "    examples['completion'] = completion_text[len(prompt_text):]\n",
    "    return examples\n",
    "\n",
    "\n",
    "# Unpaired Preference (Prompt + Completion + Label)\n",
    "def apply_chat_template(examples):\n",
    "    \"\"\"\n",
    "    输入格式:\n",
    "    examples = {\n",
    "        'prompt': [\n",
    "            {'role': 'user', 'content': '写一个1+1的答案'}\n",
    "        ],\n",
    "        'completion': [\n",
    "            {'role': 'assistant', 'content': '答案是2'}\n",
    "        ],\n",
    "        'label': 1  # 比如 1表示偏好，0表示不偏好\n",
    "    }\n",
    "    \"\"\"\n",
    "    prompt_text = tokenizer.apply_chat_template(\n",
    "        examples['prompt'],\n",
    "        tokenize=False,\n",
    "        add_generation_prompt=True\n",
    "    )\n",
    "    completion_text = tokenizer.apply_chat_template(\n",
    "        examples['prompt'] + examples['completion'],\n",
    "        tokenize=False\n",
    "    )\n",
    "    examples['prompt'] = prompt_text\n",
    "    examples['completion'] = completion_text[len(prompt_text):]\n",
    "    return examples\n"
   ]
  },
  {
   "cell_type": "markdown",
   "metadata": {},
   "source": [
    "# vllm部署及测试"
   ]
  },
  {
   "cell_type": "code",
   "execution_count": null,
   "metadata": {},
   "outputs": [],
   "source": [
    "'''\n",
    "CUDA_VISIBLE_DEVICES=0,1 vllm serve save/base_reward_0926/checkpoint-50 --served-model-name base_reward --tensor-parallel-size 2 --port 5001 --override-pooler-config '{\"pooling_type\": \"LAST\", \"normalize\": false, \"softmax\": false}'\n",
    "'''"
   ]
  },
  {
   "cell_type": "code",
   "execution_count": 2,
   "metadata": {},
   "outputs": [
    {
     "data": {
      "text/plain": [
       "-7.0625"
      ]
     },
     "execution_count": 2,
     "metadata": {},
     "output_type": "execute_result"
    }
   ],
   "source": [
    "\"\"\"纯判别式奖励模型测试\"\"\"\n",
    "import requests\n",
    "def get_score_api(query: str, response: str):\n",
    "    api_url = \"http://0.0.0.0:5001/pooling\"\n",
    "    # Input like Chat API\n",
    "    prompt = {\n",
    "        \"model\": \"base_reward\",\n",
    "        \"messages\": [\n",
    "            {\n",
    "                \"role\": \"system\",\n",
    "                \"content\": [{\"type\": \"text\", \"text\": \"You are a helpful assistant.\"}],\n",
    "            },\n",
    "            {\n",
    "                \"role\": \"user\",\n",
    "                \"content\": [{\"type\": \"text\", \"text\": query}],\n",
    "            },\n",
    "            {\n",
    "                \"role\": \"assistant\",\n",
    "                \"content\": [{\"type\": \"text\", \"text\": response}],\n",
    "            },\n",
    "        ],\n",
    "    }\n",
    "    headers = {\"Content-Type\": \"application/json\", \"Authorization\": \"Bearer EMPTY\"}\n",
    "    response = requests.post(api_url, headers=headers, json=prompt)\n",
    "    return float(response.json()[\"data\"][0][\"data\"][0])\n",
    "\n",
    "user_prompt = \"给我写一个谜语\"\n",
    "response_str = \"\"\"我就不写\"\"\"\n",
    "\n",
    "get_score_api(user_prompt, response_str)"
   ]
  },
  {
   "cell_type": "code",
   "execution_count": null,
   "metadata": {},
   "outputs": [],
   "source": []
  }
 ],
 "metadata": {
  "kernelspec": {
   "display_name": "zejun7-latest",
   "language": "python",
   "name": "python3"
  },
  "language_info": {
   "codemirror_mode": {
    "name": "ipython",
    "version": 3
   },
   "file_extension": ".py",
   "mimetype": "text/x-python",
   "name": "python",
   "nbconvert_exporter": "python",
   "pygments_lexer": "ipython3",
   "version": "3.11.10"
  }
 },
 "nbformat": 4,
 "nbformat_minor": 2
}
